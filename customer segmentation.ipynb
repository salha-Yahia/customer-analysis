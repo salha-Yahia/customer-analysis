{
 "cells": [
  {
   "cell_type": "markdown",
   "metadata": {},
   "source": [
    "# Import libraries"
   ]
  },
  {
   "cell_type": "code",
   "execution_count": 1,
   "metadata": {},
   "outputs": [],
   "source": [
    "import pandas as pd\n",
    "import matplotlib.pyplot as plt\n",
    "from sklearn.preprocessing import StandardScaler\n",
    "from sklearn import cluster\n",
    "import sklearn\n",
    "from sklearn.cluster import KMeans\n",
    "import numpy as np \n",
    "from sklearn.cluster import KMeans\n",
    "from sklearn.decomposition import PCA\n",
    "from sklearn.metrics import silhouette_samples, silhouette_score\n",
    "from mpl_toolkits import mplot3d\n",
    "from sklearn.metrics import davies_bouldin_score "
   ]
  },
  {
   "cell_type": "markdown",
   "metadata": {},
   "source": [
    "# Load data"
   ]
  },
  {
   "cell_type": "code",
   "execution_count": 2,
   "metadata": {},
   "outputs": [],
   "source": [
    "emails =  pd.read_csv('email_events_202101071339.csv')\n",
    "orders =  pd.read_csv('orders_202101071341.csv')\n",
    "products =  pd.read_csv('products_202101071344.csv')"
   ]
  },
  {
   "cell_type": "markdown",
   "metadata": {},
   "source": [
    "# merge data"
   ]
  },
  {
   "cell_type": "code",
   "execution_count": 3,
   "metadata": {},
   "outputs": [],
   "source": [
    "orders_products = pd.merge(orders.copy(), products.copy(), how='left',left_on='product_id', right_on='product_id')\n",
    "emails_orders_products = pd.merge(emails.copy(), orders_products.copy(), how='left',left_on='customer', right_on='customer')"
   ]
  },
  {
   "cell_type": "code",
   "execution_count": 4,
   "metadata": {},
   "outputs": [
    {
     "data": {
      "text/html": [
       "<div>\n",
       "<style scoped>\n",
       "    .dataframe tbody tr th:only-of-type {\n",
       "        vertical-align: middle;\n",
       "    }\n",
       "\n",
       "    .dataframe tbody tr th {\n",
       "        vertical-align: top;\n",
       "    }\n",
       "\n",
       "    .dataframe thead th {\n",
       "        text-align: right;\n",
       "    }\n",
       "</style>\n",
       "<table border=\"1\" class=\"dataframe\">\n",
       "  <thead>\n",
       "    <tr style=\"text-align: right;\">\n",
       "      <th></th>\n",
       "      <th>order_id</th>\n",
       "      <th>customer</th>\n",
       "      <th>created_at</th>\n",
       "      <th>product_id</th>\n",
       "      <th>discount</th>\n",
       "      <th>refunded</th>\n",
       "      <th>price</th>\n",
       "    </tr>\n",
       "  </thead>\n",
       "  <tbody>\n",
       "    <tr>\n",
       "      <th>0</th>\n",
       "      <td>3</td>\n",
       "      <td>2</td>\n",
       "      <td>2019-05-09</td>\n",
       "      <td>1</td>\n",
       "      <td>0.15</td>\n",
       "      <td>0</td>\n",
       "      <td>20</td>\n",
       "    </tr>\n",
       "    <tr>\n",
       "      <th>1</th>\n",
       "      <td>7</td>\n",
       "      <td>4</td>\n",
       "      <td>2019-08-11</td>\n",
       "      <td>1</td>\n",
       "      <td>0.15</td>\n",
       "      <td>0</td>\n",
       "      <td>20</td>\n",
       "    </tr>\n",
       "    <tr>\n",
       "      <th>2</th>\n",
       "      <td>11</td>\n",
       "      <td>5</td>\n",
       "      <td>2020-06-09</td>\n",
       "      <td>9</td>\n",
       "      <td>0.00</td>\n",
       "      <td>0</td>\n",
       "      <td>30</td>\n",
       "    </tr>\n",
       "    <tr>\n",
       "      <th>3</th>\n",
       "      <td>15</td>\n",
       "      <td>8</td>\n",
       "      <td>2020-06-08</td>\n",
       "      <td>7</td>\n",
       "      <td>0.00</td>\n",
       "      <td>0</td>\n",
       "      <td>50</td>\n",
       "    </tr>\n",
       "    <tr>\n",
       "      <th>4</th>\n",
       "      <td>19</td>\n",
       "      <td>10</td>\n",
       "      <td>2019-10-31</td>\n",
       "      <td>1</td>\n",
       "      <td>0.00</td>\n",
       "      <td>0</td>\n",
       "      <td>20</td>\n",
       "    </tr>\n",
       "  </tbody>\n",
       "</table>\n",
       "</div>"
      ],
      "text/plain": [
       "   order_id  customer  created_at  product_id  discount  refunded  price\n",
       "0         3         2  2019-05-09           1      0.15         0     20\n",
       "1         7         4  2019-08-11           1      0.15         0     20\n",
       "2        11         5  2020-06-09           9      0.00         0     30\n",
       "3        15         8  2020-06-08           7      0.00         0     50\n",
       "4        19        10  2019-10-31           1      0.00         0     20"
      ]
     },
     "execution_count": 4,
     "metadata": {},
     "output_type": "execute_result"
    }
   ],
   "source": [
    "orders_products.head()"
   ]
  },
  {
   "cell_type": "code",
   "execution_count": 5,
   "metadata": {},
   "outputs": [
    {
     "data": {
      "text/html": [
       "<div>\n",
       "<style scoped>\n",
       "    .dataframe tbody tr th:only-of-type {\n",
       "        vertical-align: middle;\n",
       "    }\n",
       "\n",
       "    .dataframe tbody tr th {\n",
       "        vertical-align: top;\n",
       "    }\n",
       "\n",
       "    .dataframe thead th {\n",
       "        text-align: right;\n",
       "    }\n",
       "</style>\n",
       "<table border=\"1\" class=\"dataframe\">\n",
       "  <thead>\n",
       "    <tr style=\"text-align: right;\">\n",
       "      <th></th>\n",
       "      <th>event_id</th>\n",
       "      <th>customer</th>\n",
       "      <th>event_name</th>\n",
       "      <th>campaign</th>\n",
       "      <th>event_date</th>\n",
       "      <th>order_id</th>\n",
       "      <th>created_at</th>\n",
       "      <th>product_id</th>\n",
       "      <th>discount</th>\n",
       "      <th>refunded</th>\n",
       "      <th>price</th>\n",
       "    </tr>\n",
       "  </thead>\n",
       "  <tbody>\n",
       "    <tr>\n",
       "      <th>0</th>\n",
       "      <td>140801</td>\n",
       "      <td>1533</td>\n",
       "      <td>Received Email</td>\n",
       "      <td>632ff6402f17a6c96e17bdebffb9dcfa</td>\n",
       "      <td>2020-04-03</td>\n",
       "      <td>2304</td>\n",
       "      <td>2018-08-24</td>\n",
       "      <td>6</td>\n",
       "      <td>0.0</td>\n",
       "      <td>0</td>\n",
       "      <td>35</td>\n",
       "    </tr>\n",
       "    <tr>\n",
       "      <th>1</th>\n",
       "      <td>140805</td>\n",
       "      <td>1533</td>\n",
       "      <td>Received Email</td>\n",
       "      <td>4ea861b70be346fb1b3475a8ed953254</td>\n",
       "      <td>2020-02-07</td>\n",
       "      <td>2304</td>\n",
       "      <td>2018-08-24</td>\n",
       "      <td>6</td>\n",
       "      <td>0.0</td>\n",
       "      <td>0</td>\n",
       "      <td>35</td>\n",
       "    </tr>\n",
       "    <tr>\n",
       "      <th>2</th>\n",
       "      <td>140809</td>\n",
       "      <td>1533</td>\n",
       "      <td>Received Email</td>\n",
       "      <td>f0d07f7556bf88ab984a1f44e99e48b4</td>\n",
       "      <td>2019-12-13</td>\n",
       "      <td>2304</td>\n",
       "      <td>2018-08-24</td>\n",
       "      <td>6</td>\n",
       "      <td>0.0</td>\n",
       "      <td>0</td>\n",
       "      <td>35</td>\n",
       "    </tr>\n",
       "    <tr>\n",
       "      <th>3</th>\n",
       "      <td>140813</td>\n",
       "      <td>1533</td>\n",
       "      <td>Received Email</td>\n",
       "      <td>9a32642f15f2657d118baf7e572b0e81</td>\n",
       "      <td>2019-10-18</td>\n",
       "      <td>2304</td>\n",
       "      <td>2018-08-24</td>\n",
       "      <td>6</td>\n",
       "      <td>0.0</td>\n",
       "      <td>0</td>\n",
       "      <td>35</td>\n",
       "    </tr>\n",
       "    <tr>\n",
       "      <th>4</th>\n",
       "      <td>140817</td>\n",
       "      <td>1533</td>\n",
       "      <td>Received Email</td>\n",
       "      <td>bdc4d58ad5fde3ad8c5143452c668f73</td>\n",
       "      <td>2019-08-23</td>\n",
       "      <td>2304</td>\n",
       "      <td>2018-08-24</td>\n",
       "      <td>6</td>\n",
       "      <td>0.0</td>\n",
       "      <td>0</td>\n",
       "      <td>35</td>\n",
       "    </tr>\n",
       "  </tbody>\n",
       "</table>\n",
       "</div>"
      ],
      "text/plain": [
       "   event_id  customer      event_name                          campaign  \\\n",
       "0    140801      1533  Received Email  632ff6402f17a6c96e17bdebffb9dcfa   \n",
       "1    140805      1533  Received Email  4ea861b70be346fb1b3475a8ed953254   \n",
       "2    140809      1533  Received Email  f0d07f7556bf88ab984a1f44e99e48b4   \n",
       "3    140813      1533  Received Email  9a32642f15f2657d118baf7e572b0e81   \n",
       "4    140817      1533  Received Email  bdc4d58ad5fde3ad8c5143452c668f73   \n",
       "\n",
       "   event_date  order_id  created_at  product_id  discount  refunded  price  \n",
       "0  2020-04-03      2304  2018-08-24           6       0.0         0     35  \n",
       "1  2020-02-07      2304  2018-08-24           6       0.0         0     35  \n",
       "2  2019-12-13      2304  2018-08-24           6       0.0         0     35  \n",
       "3  2019-10-18      2304  2018-08-24           6       0.0         0     35  \n",
       "4  2019-08-23      2304  2018-08-24           6       0.0         0     35  "
      ]
     },
     "execution_count": 5,
     "metadata": {},
     "output_type": "execute_result"
    }
   ],
   "source": [
    "emails_orders_products.head()"
   ]
  },
  {
   "cell_type": "code",
   "execution_count": 6,
   "metadata": {},
   "outputs": [
    {
     "data": {
      "text/html": [
       "<div>\n",
       "<style scoped>\n",
       "    .dataframe tbody tr th:only-of-type {\n",
       "        vertical-align: middle;\n",
       "    }\n",
       "\n",
       "    .dataframe tbody tr th {\n",
       "        vertical-align: top;\n",
       "    }\n",
       "\n",
       "    .dataframe thead th {\n",
       "        text-align: right;\n",
       "    }\n",
       "</style>\n",
       "<table border=\"1\" class=\"dataframe\">\n",
       "  <thead>\n",
       "    <tr style=\"text-align: right;\">\n",
       "      <th></th>\n",
       "      <th>order_id</th>\n",
       "      <th>customer</th>\n",
       "      <th>created_at</th>\n",
       "      <th>product_id</th>\n",
       "      <th>discount</th>\n",
       "      <th>refunded</th>\n",
       "      <th>price</th>\n",
       "      <th>real_price</th>\n",
       "    </tr>\n",
       "  </thead>\n",
       "  <tbody>\n",
       "    <tr>\n",
       "      <th>0</th>\n",
       "      <td>3</td>\n",
       "      <td>2</td>\n",
       "      <td>2019-05-09</td>\n",
       "      <td>1</td>\n",
       "      <td>0.15</td>\n",
       "      <td>0</td>\n",
       "      <td>20</td>\n",
       "      <td>17.0</td>\n",
       "    </tr>\n",
       "    <tr>\n",
       "      <th>1</th>\n",
       "      <td>7</td>\n",
       "      <td>4</td>\n",
       "      <td>2019-08-11</td>\n",
       "      <td>1</td>\n",
       "      <td>0.15</td>\n",
       "      <td>0</td>\n",
       "      <td>20</td>\n",
       "      <td>17.0</td>\n",
       "    </tr>\n",
       "    <tr>\n",
       "      <th>2</th>\n",
       "      <td>11</td>\n",
       "      <td>5</td>\n",
       "      <td>2020-06-09</td>\n",
       "      <td>9</td>\n",
       "      <td>0.00</td>\n",
       "      <td>0</td>\n",
       "      <td>30</td>\n",
       "      <td>30.0</td>\n",
       "    </tr>\n",
       "    <tr>\n",
       "      <th>3</th>\n",
       "      <td>15</td>\n",
       "      <td>8</td>\n",
       "      <td>2020-06-08</td>\n",
       "      <td>7</td>\n",
       "      <td>0.00</td>\n",
       "      <td>0</td>\n",
       "      <td>50</td>\n",
       "      <td>50.0</td>\n",
       "    </tr>\n",
       "    <tr>\n",
       "      <th>4</th>\n",
       "      <td>19</td>\n",
       "      <td>10</td>\n",
       "      <td>2019-10-31</td>\n",
       "      <td>1</td>\n",
       "      <td>0.00</td>\n",
       "      <td>0</td>\n",
       "      <td>20</td>\n",
       "      <td>20.0</td>\n",
       "    </tr>\n",
       "  </tbody>\n",
       "</table>\n",
       "</div>"
      ],
      "text/plain": [
       "   order_id  customer  created_at  product_id  discount  refunded  price  \\\n",
       "0         3         2  2019-05-09           1      0.15         0     20   \n",
       "1         7         4  2019-08-11           1      0.15         0     20   \n",
       "2        11         5  2020-06-09           9      0.00         0     30   \n",
       "3        15         8  2020-06-08           7      0.00         0     50   \n",
       "4        19        10  2019-10-31           1      0.00         0     20   \n",
       "\n",
       "   real_price  \n",
       "0        17.0  \n",
       "1        17.0  \n",
       "2        30.0  \n",
       "3        50.0  \n",
       "4        20.0  "
      ]
     },
     "execution_count": 6,
     "metadata": {},
     "output_type": "execute_result"
    }
   ],
   "source": [
    "# add a new coloum:real price\n",
    "disc = list(orders_products['discount'])\n",
    "price = list(orders_products['price'])\n",
    "orders_products['real_price']= [(1-disc[i])*price[i] for i,j in enumerate(disc)]\n",
    "orders_products.head()"
   ]
  },
  {
   "cell_type": "markdown",
   "metadata": {},
   "source": [
    "# Customer segmentation"
   ]
  },
  {
   "cell_type": "code",
   "execution_count": 7,
   "metadata": {},
   "outputs": [],
   "source": [
    "#create a new dataset to apply RFM method\n",
    "#calculate recency\n",
    "#sort values of date(created_at) per customer and take the last one\n",
    "orders_products['created_at'] = pd.to_datetime(orders_products['created_at']) # transform en date format\n",
    "dR = orders_products.groupby([\"customer\"], as_index=False).apply(lambda x: x.sort_values([\"created_at\"], ascending = False).head(1)).reset_index(drop=True)\n",
    "dR['created_at'] = dR['created_at'].apply(lambda x: x.to_pydatetime())\n",
    "dR['recency(day)'] = pd.to_datetime('today').to_pydatetime()- dR['created_at']\n",
    "dR['recency(day)'] = dR['recency(day)'].apply(lambda x: str(x))\n",
    "dR['recency(day)'] = dR['recency(day)'].apply(lambda x: x.split()[0])\n",
    "dR = dR[['customer','recency(day)']]\n",
    "\n",
    "#calculate frequency\n",
    "dF = orders_products.groupby(by=['customer'], as_index=False).size().reset_index(name='frequency(number)') #number_of_orders_by_customer\n",
    "\n",
    "#calculate monetory\n",
    "temp = orders_products.groupby(by=['customer'], as_index=False)['real_price'].sum()\n",
    "dM = temp.rename(columns = {'real_price':'monetary(total)'})\n",
    " \n",
    "#RFM table\n",
    "RFM = pd.merge(dR.copy(),dF.copy(),how='left', on ='customer')\n",
    "RFM = pd.merge(RFM.copy(),dM.copy(),how='left', on ='customer')\n"
   ]
  },
  {
   "cell_type": "code",
   "execution_count": null,
   "metadata": {},
   "outputs": [],
   "source": []
  },
  {
   "cell_type": "code",
   "execution_count": 8,
   "metadata": {},
   "outputs": [
    {
     "data": {
      "text/plain": [
       "customer               int64\n",
       "recency(day)          object\n",
       "frequency(number)      int64\n",
       "monetary(total)      float64\n",
       "dtype: object"
      ]
     },
     "execution_count": 8,
     "metadata": {},
     "output_type": "execute_result"
    }
   ],
   "source": [
    "RFM.dtypes"
   ]
  },
  {
   "cell_type": "code",
   "execution_count": 9,
   "metadata": {},
   "outputs": [],
   "source": [
    "RFM['recency(day)'] = RFM['recency(day)'].astype(int)"
   ]
  },
  {
   "cell_type": "code",
   "execution_count": 10,
   "metadata": {},
   "outputs": [
    {
     "data": {
      "text/html": [
       "<div>\n",
       "<style scoped>\n",
       "    .dataframe tbody tr th:only-of-type {\n",
       "        vertical-align: middle;\n",
       "    }\n",
       "\n",
       "    .dataframe tbody tr th {\n",
       "        vertical-align: top;\n",
       "    }\n",
       "\n",
       "    .dataframe thead th {\n",
       "        text-align: right;\n",
       "    }\n",
       "</style>\n",
       "<table border=\"1\" class=\"dataframe\">\n",
       "  <thead>\n",
       "    <tr style=\"text-align: right;\">\n",
       "      <th></th>\n",
       "      <th>customer</th>\n",
       "      <th>recency(day)</th>\n",
       "      <th>frequency(number)</th>\n",
       "      <th>monetary(total)</th>\n",
       "    </tr>\n",
       "  </thead>\n",
       "  <tbody>\n",
       "    <tr>\n",
       "      <th>0</th>\n",
       "      <td>1</td>\n",
       "      <td>350</td>\n",
       "      <td>1</td>\n",
       "      <td>55.00</td>\n",
       "    </tr>\n",
       "    <tr>\n",
       "      <th>1</th>\n",
       "      <td>2</td>\n",
       "      <td>292</td>\n",
       "      <td>5</td>\n",
       "      <td>221.75</td>\n",
       "    </tr>\n",
       "    <tr>\n",
       "      <th>2</th>\n",
       "      <td>3</td>\n",
       "      <td>538</td>\n",
       "      <td>1</td>\n",
       "      <td>100.00</td>\n",
       "    </tr>\n",
       "    <tr>\n",
       "      <th>3</th>\n",
       "      <td>4</td>\n",
       "      <td>513</td>\n",
       "      <td>3</td>\n",
       "      <td>167.00</td>\n",
       "    </tr>\n",
       "    <tr>\n",
       "      <th>4</th>\n",
       "      <td>5</td>\n",
       "      <td>215</td>\n",
       "      <td>3</td>\n",
       "      <td>160.00</td>\n",
       "    </tr>\n",
       "  </tbody>\n",
       "</table>\n",
       "</div>"
      ],
      "text/plain": [
       "   customer  recency(day)  frequency(number)  monetary(total)\n",
       "0         1           350                  1            55.00\n",
       "1         2           292                  5           221.75\n",
       "2         3           538                  1           100.00\n",
       "3         4           513                  3           167.00\n",
       "4         5           215                  3           160.00"
      ]
     },
     "execution_count": 10,
     "metadata": {},
     "output_type": "execute_result"
    }
   ],
   "source": [
    "RFM.head()"
   ]
  },
  {
   "cell_type": "code",
   "execution_count": 11,
   "metadata": {},
   "outputs": [],
   "source": [
    "#Scale features\n",
    "\n",
    "num_features = ['recency(day)','frequency(number)','monetary(total)']\n",
    "scaler = StandardScaler()\n",
    "scaled_matrix = RFM.copy()\n",
    "for i in num_features:\n",
    "    scaled_matrix[i] = scaler.fit_transform(RFM[[i]])"
   ]
  },
  {
   "cell_type": "code",
   "execution_count": 12,
   "metadata": {},
   "outputs": [
    {
     "data": {
      "text/html": [
       "<div>\n",
       "<style scoped>\n",
       "    .dataframe tbody tr th:only-of-type {\n",
       "        vertical-align: middle;\n",
       "    }\n",
       "\n",
       "    .dataframe tbody tr th {\n",
       "        vertical-align: top;\n",
       "    }\n",
       "\n",
       "    .dataframe thead th {\n",
       "        text-align: right;\n",
       "    }\n",
       "</style>\n",
       "<table border=\"1\" class=\"dataframe\">\n",
       "  <thead>\n",
       "    <tr style=\"text-align: right;\">\n",
       "      <th></th>\n",
       "      <th>customer</th>\n",
       "      <th>recency(day)</th>\n",
       "      <th>frequency(number)</th>\n",
       "      <th>monetary(total)</th>\n",
       "    </tr>\n",
       "  </thead>\n",
       "  <tbody>\n",
       "    <tr>\n",
       "      <th>0</th>\n",
       "      <td>1</td>\n",
       "      <td>-0.394729</td>\n",
       "      <td>-0.616546</td>\n",
       "      <td>-0.472910</td>\n",
       "    </tr>\n",
       "    <tr>\n",
       "      <th>1</th>\n",
       "      <td>2</td>\n",
       "      <td>-0.566931</td>\n",
       "      <td>4.289333</td>\n",
       "      <td>2.688875</td>\n",
       "    </tr>\n",
       "    <tr>\n",
       "      <th>2</th>\n",
       "      <td>3</td>\n",
       "      <td>0.163444</td>\n",
       "      <td>-0.616546</td>\n",
       "      <td>0.380345</td>\n",
       "    </tr>\n",
       "    <tr>\n",
       "      <th>3</th>\n",
       "      <td>4</td>\n",
       "      <td>0.089219</td>\n",
       "      <td>1.836393</td>\n",
       "      <td>1.650748</td>\n",
       "    </tr>\n",
       "    <tr>\n",
       "      <th>4</th>\n",
       "      <td>5</td>\n",
       "      <td>-0.795545</td>\n",
       "      <td>1.836393</td>\n",
       "      <td>1.518019</td>\n",
       "    </tr>\n",
       "  </tbody>\n",
       "</table>\n",
       "</div>"
      ],
      "text/plain": [
       "   customer  recency(day)  frequency(number)  monetary(total)\n",
       "0         1     -0.394729          -0.616546        -0.472910\n",
       "1         2     -0.566931           4.289333         2.688875\n",
       "2         3      0.163444          -0.616546         0.380345\n",
       "3         4      0.089219           1.836393         1.650748\n",
       "4         5     -0.795545           1.836393         1.518019"
      ]
     },
     "execution_count": 12,
     "metadata": {},
     "output_type": "execute_result"
    }
   ],
   "source": [
    "scaled_matrix.head()"
   ]
  },
  {
   "cell_type": "code",
   "execution_count": 13,
   "metadata": {},
   "outputs": [
    {
     "data": {
      "text/html": [
       "<div>\n",
       "<style scoped>\n",
       "    .dataframe tbody tr th:only-of-type {\n",
       "        vertical-align: middle;\n",
       "    }\n",
       "\n",
       "    .dataframe tbody tr th {\n",
       "        vertical-align: top;\n",
       "    }\n",
       "\n",
       "    .dataframe thead th {\n",
       "        text-align: right;\n",
       "    }\n",
       "</style>\n",
       "<table border=\"1\" class=\"dataframe\">\n",
       "  <thead>\n",
       "    <tr style=\"text-align: right;\">\n",
       "      <th></th>\n",
       "      <th>customer</th>\n",
       "      <th>recency(day)</th>\n",
       "      <th>frequency(number)</th>\n",
       "      <th>monetary(total)</th>\n",
       "    </tr>\n",
       "  </thead>\n",
       "  <tbody>\n",
       "    <tr>\n",
       "      <th>min</th>\n",
       "      <td>1.00000</td>\n",
       "      <td>-1.291369e+00</td>\n",
       "      <td>-6.165464e-01</td>\n",
       "      <td>-1.212398e+00</td>\n",
       "    </tr>\n",
       "    <tr>\n",
       "      <th>max</th>\n",
       "      <td>10000.00000</td>\n",
       "      <td>3.004785e+00</td>\n",
       "      <td>5.515803e+00</td>\n",
       "      <td>5.879103e+00</td>\n",
       "    </tr>\n",
       "    <tr>\n",
       "      <th>std</th>\n",
       "      <td>2886.89568</td>\n",
       "      <td>1.000050e+00</td>\n",
       "      <td>1.000050e+00</td>\n",
       "      <td>1.000050e+00</td>\n",
       "    </tr>\n",
       "    <tr>\n",
       "      <th>mean</th>\n",
       "      <td>5000.50000</td>\n",
       "      <td>6.342149e-17</td>\n",
       "      <td>2.302603e-17</td>\n",
       "      <td>-4.312106e-17</td>\n",
       "    </tr>\n",
       "  </tbody>\n",
       "</table>\n",
       "</div>"
      ],
      "text/plain": [
       "         customer  recency(day)  frequency(number)  monetary(total)\n",
       "min       1.00000 -1.291369e+00      -6.165464e-01    -1.212398e+00\n",
       "max   10000.00000  3.004785e+00       5.515803e+00     5.879103e+00\n",
       "std    2886.89568  1.000050e+00       1.000050e+00     1.000050e+00\n",
       "mean   5000.50000  6.342149e-17       2.302603e-17    -4.312106e-17"
      ]
     },
     "execution_count": 13,
     "metadata": {},
     "output_type": "execute_result"
    }
   ],
   "source": [
    "scaled_matrix.agg(['min', 'max', 'std', 'mean'])"
   ]
  },
  {
   "cell_type": "code",
   "execution_count": 14,
   "metadata": {},
   "outputs": [
    {
     "data": {
      "text/plain": [
       "array([[-0.394729  , -0.61654639, -0.4729102 ],\n",
       "       [-0.56693145,  4.289333  ,  2.68887532],\n",
       "       [ 0.16344447, -0.61654639,  0.38034526],\n",
       "       ...,\n",
       "       [ 0.54941549,  1.8363933 ,  1.70763153],\n",
       "       [-0.89352231, -0.61654639, -0.85213485],\n",
       "       [-0.48379923,  1.8363933 ,  0.47515142]])"
      ]
     },
     "execution_count": 14,
     "metadata": {},
     "output_type": "execute_result"
    }
   ],
   "source": [
    "X = scaled_matrix[scaled_matrix.columns.values[1:]].values\n",
    "X"
   ]
  },
  {
   "cell_type": "code",
   "execution_count": 15,
   "metadata": {},
   "outputs": [],
   "source": [
    "#find optimal number of clusters "
   ]
  },
  {
   "cell_type": "code",
   "execution_count": 16,
   "metadata": {},
   "outputs": [
    {
     "data": {
      "image/png": "[encoded data removed]",
      "text/plain": [
       "<Figure size 864x432 with 1 Axes>"
      ]
     },
     "metadata": {
      "needs_background": "light"
     },
     "output_type": "display_data"
    }
   ],
   "source": [
    "#1. Elbow method\n",
    "wcss = []\n",
    "for k in range(1,11):\n",
    "    kmeans = KMeans(n_clusters=k, init=\"k-means++\")\n",
    "    kmeans.fit(X)\n",
    "    wcss.append(kmeans.inertia_)\n",
    "plt.figure(figsize=(12,6))    \n",
    "plt.grid()\n",
    "plt.plot(range(1,11),wcss, linewidth=2, color=\"red\", marker =\"8\")\n",
    "plt.xlabel('Number of clusters')\n",
    "plt.xticks(np.arange(1,11,1))\n",
    "plt.ylabel(\"WCSS\")\n",
    "plt.show()"
   ]
  },
  {
   "cell_type": "code",
   "execution_count": 17,
   "metadata": {},
   "outputs": [],
   "source": [
    "#3 is the optimal value"
   ]
  },
  {
   "cell_type": "code",
   "execution_count": 18,
   "metadata": {},
   "outputs": [
    {
     "name": "stdout",
     "output_type": "stream",
     "text": [
      "Number Of Clusters:   2\n",
      "Silhouette score value\n",
      "0.460613571085506\n",
      "Number Of Clusters:   3\n",
      "Silhouette score value\n",
      "0.41376720777594717\n",
      "Number Of Clusters:   4\n",
      "Silhouette score value\n",
      "0.4209408331257815\n",
      "Number Of Clusters:   5\n",
      "Silhouette score value\n",
      "0.42444001278826365\n",
      "Number Of Clusters:   6\n",
      "Silhouette score value\n",
      "0.3734090787940866\n",
      "Number Of Clusters:   7\n",
      "Silhouette score value\n",
      "0.3746151183955497\n",
      "Number Of Clusters:   8\n",
      "Silhouette score value\n",
      "0.3723321726203807\n",
      "Number Of Clusters:   9\n",
      "Silhouette score value\n",
      "0.3779902773223968\n"
     ]
    },
    {
     "data": {
      "image/png": "[encoded data removed]",
      "text/plain": [
       "<Figure size 432x288 with 1 Axes>"
      ]
     },
     "metadata": {
      "needs_background": "light"
     },
     "output_type": "display_data"
    },
    {
     "name": "stdout",
     "output_type": "stream",
     "text": [
      "Optimal number of components is:\n",
      "2\n"
     ]
    }
   ],
   "source": [
    "#2.silhouette methode\n",
    "obs = X\n",
    "silhouette_score_values=[]\n",
    "NumberOfClusters=range(2,10)\n",
    "\n",
    "for i in NumberOfClusters:\n",
    "    \n",
    "    classifier=cluster.KMeans(i,init='k-means++', n_init=10, max_iter=300, tol=0.0001, verbose=0, random_state=None, copy_x=True)\n",
    "    classifier.fit(obs)\n",
    "    labels= classifier.predict(obs)\n",
    "    print(\"Number Of Clusters:  \",i)\n",
    "    print(\"Silhouette score value\")\n",
    "    print(sklearn.metrics.silhouette_score(obs,labels ,metric='euclidean', sample_size=None, random_state=None))\n",
    "    silhouette_score_values.append(sklearn.metrics.silhouette_score(obs,labels ,metric='euclidean', sample_size=None, random_state=None))\n",
    "\n",
    "plt.plot(NumberOfClusters, silhouette_score_values)\n",
    "plt.title(\"Silhouette score values vs Numbers of Clusters \")\n",
    "plt.show()\n",
    "\n",
    "Optimal_NumberOf_Components=NumberOfClusters[silhouette_score_values.index(max(silhouette_score_values))]\n",
    "print(\"Optimal number of components is:\")\n",
    "print(Optimal_NumberOf_Components)"
   ]
  },
  {
   "cell_type": "code",
   "execution_count": 19,
   "metadata": {},
   "outputs": [],
   "source": [
    "#Kmeans "
   ]
  },
  {
   "cell_type": "code",
   "execution_count": 20,
   "metadata": {},
   "outputs": [
    {
     "name": "stdout",
     "output_type": "stream",
     "text": [
      "score de silhouette: 0.41376\n"
     ]
    }
   ],
   "source": [
    "n_clusters = 3\n",
    "kmeans = KMeans(init='k-means++', n_clusters = n_clusters, n_init=100)\n",
    "kmeans.fit(X)\n",
    "clusters_customers = kmeans.predict(X)\n",
    "centroids = kmeans.cluster_centers_\n",
    "silhouette_avg = silhouette_score(X, clusters_customers)\n",
    "print('score de silhouette: {:<.5f}'.format(silhouette_avg))"
   ]
  },
  {
   "cell_type": "code",
   "execution_count": 21,
   "metadata": {},
   "outputs": [
    {
     "name": "stdout",
     "output_type": "stream",
     "text": [
      "score de silhouette: 0.42444\n"
     ]
    }
   ],
   "source": [
    "n_clusters = 5\n",
    "kmeans = KMeans(init='k-means++', n_clusters = n_clusters, n_init=100)\n",
    "kmeans.fit(X)\n",
    "clusters_customers = kmeans.predict(X)\n",
    "centroids = kmeans.cluster_centers_\n",
    "silhouette_avg = silhouette_score(X, clusters_customers)\n",
    "print('score de silhouette: {:<.5f}'.format(silhouette_avg))"
   ]
  },
  {
   "cell_type": "code",
   "execution_count": 22,
   "metadata": {},
   "outputs": [
    {
     "data": {
      "text/html": [
       "<div>\n",
       "<style scoped>\n",
       "    .dataframe tbody tr th:only-of-type {\n",
       "        vertical-align: middle;\n",
       "    }\n",
       "\n",
       "    .dataframe tbody tr th {\n",
       "        vertical-align: top;\n",
       "    }\n",
       "\n",
       "    .dataframe thead th {\n",
       "        text-align: right;\n",
       "    }\n",
       "</style>\n",
       "<table border=\"1\" class=\"dataframe\">\n",
       "  <thead>\n",
       "    <tr style=\"text-align: right;\">\n",
       "      <th></th>\n",
       "      <th>0</th>\n",
       "      <th>3</th>\n",
       "      <th>1</th>\n",
       "      <th>2</th>\n",
       "      <th>4</th>\n",
       "    </tr>\n",
       "  </thead>\n",
       "  <tbody>\n",
       "    <tr>\n",
       "      <th>number of customers per cluster</th>\n",
       "      <td>4234</td>\n",
       "      <td>2409</td>\n",
       "      <td>1667</td>\n",
       "      <td>921</td>\n",
       "      <td>769</td>\n",
       "    </tr>\n",
       "  </tbody>\n",
       "</table>\n",
       "</div>"
      ],
      "text/plain": [
       "                                    0     3     1    2    4\n",
       "number of customers per cluster  4234  2409  1667  921  769"
      ]
     },
     "execution_count": 22,
     "metadata": {},
     "output_type": "execute_result"
    }
   ],
   "source": [
    "pd.DataFrame(pd.Series(clusters_customers).value_counts(), columns = ['number of customers per cluster']).T"
   ]
  },
  {
   "cell_type": "code",
   "execution_count": 23,
   "metadata": {},
   "outputs": [
    {
     "data": {
      "text/html": [
       "<div>\n",
       "<style scoped>\n",
       "    .dataframe tbody tr th:only-of-type {\n",
       "        vertical-align: middle;\n",
       "    }\n",
       "\n",
       "    .dataframe tbody tr th {\n",
       "        vertical-align: top;\n",
       "    }\n",
       "\n",
       "    .dataframe thead th {\n",
       "        text-align: right;\n",
       "    }\n",
       "</style>\n",
       "<table border=\"1\" class=\"dataframe\">\n",
       "  <thead>\n",
       "    <tr style=\"text-align: right;\">\n",
       "      <th></th>\n",
       "      <th>customer</th>\n",
       "      <th>recency(day)</th>\n",
       "      <th>frequency(number)</th>\n",
       "      <th>monetary(total)</th>\n",
       "      <th>cluster</th>\n",
       "    </tr>\n",
       "  </thead>\n",
       "  <tbody>\n",
       "    <tr>\n",
       "      <th>0</th>\n",
       "      <td>1</td>\n",
       "      <td>350</td>\n",
       "      <td>1</td>\n",
       "      <td>55.00</td>\n",
       "      <td>0</td>\n",
       "    </tr>\n",
       "    <tr>\n",
       "      <th>1</th>\n",
       "      <td>2</td>\n",
       "      <td>292</td>\n",
       "      <td>5</td>\n",
       "      <td>221.75</td>\n",
       "      <td>4</td>\n",
       "    </tr>\n",
       "    <tr>\n",
       "      <th>2</th>\n",
       "      <td>3</td>\n",
       "      <td>538</td>\n",
       "      <td>1</td>\n",
       "      <td>100.00</td>\n",
       "      <td>0</td>\n",
       "    </tr>\n",
       "    <tr>\n",
       "      <th>3</th>\n",
       "      <td>4</td>\n",
       "      <td>513</td>\n",
       "      <td>3</td>\n",
       "      <td>167.00</td>\n",
       "      <td>4</td>\n",
       "    </tr>\n",
       "    <tr>\n",
       "      <th>4</th>\n",
       "      <td>5</td>\n",
       "      <td>215</td>\n",
       "      <td>3</td>\n",
       "      <td>160.00</td>\n",
       "      <td>4</td>\n",
       "    </tr>\n",
       "  </tbody>\n",
       "</table>\n",
       "</div>"
      ],
      "text/plain": [
       "   customer  recency(day)  frequency(number)  monetary(total)  cluster\n",
       "0         1           350                  1            55.00        0\n",
       "1         2           292                  5           221.75        4\n",
       "2         3           538                  1           100.00        0\n",
       "3         4           513                  3           167.00        4\n",
       "4         5           215                  3           160.00        4"
      ]
     },
     "execution_count": 23,
     "metadata": {},
     "output_type": "execute_result"
    }
   ],
   "source": [
    "#add the cluster column to RFM\n",
    "clustered_RFM = RFM.copy()\n",
    "clustered_RFM['cluster'] = clusters_customers\n",
    "clustered_RFM.head()"
   ]
  },
  {
   "cell_type": "code",
   "execution_count": 24,
   "metadata": {},
   "outputs": [
    {
     "data": {
      "text/html": [
       "<div>\n",
       "<style scoped>\n",
       "    .dataframe tbody tr th:only-of-type {\n",
       "        vertical-align: middle;\n",
       "    }\n",
       "\n",
       "    .dataframe tbody tr th {\n",
       "        vertical-align: top;\n",
       "    }\n",
       "\n",
       "    .dataframe thead tr th {\n",
       "        text-align: left;\n",
       "    }\n",
       "\n",
       "    .dataframe thead tr:last-of-type th {\n",
       "        text-align: right;\n",
       "    }\n",
       "</style>\n",
       "<table border=\"1\" class=\"dataframe\">\n",
       "  <thead>\n",
       "    <tr>\n",
       "      <th></th>\n",
       "      <th colspan=\"4\" halign=\"left\">recency(day)</th>\n",
       "      <th colspan=\"4\" halign=\"left\">frequency(number)</th>\n",
       "      <th colspan=\"4\" halign=\"left\">monetary(total)</th>\n",
       "      <th>cluster_size</th>\n",
       "    </tr>\n",
       "    <tr>\n",
       "      <th></th>\n",
       "      <th>min</th>\n",
       "      <th>max</th>\n",
       "      <th>mean</th>\n",
       "      <th>sum</th>\n",
       "      <th>min</th>\n",
       "      <th>max</th>\n",
       "      <th>mean</th>\n",
       "      <th>sum</th>\n",
       "      <th>min</th>\n",
       "      <th>max</th>\n",
       "      <th>mean</th>\n",
       "      <th>sum</th>\n",
       "      <th></th>\n",
       "    </tr>\n",
       "    <tr>\n",
       "      <th>cluster</th>\n",
       "      <th></th>\n",
       "      <th></th>\n",
       "      <th></th>\n",
       "      <th></th>\n",
       "      <th></th>\n",
       "      <th></th>\n",
       "      <th></th>\n",
       "      <th></th>\n",
       "      <th></th>\n",
       "      <th></th>\n",
       "      <th></th>\n",
       "      <th></th>\n",
       "      <th></th>\n",
       "    </tr>\n",
       "  </thead>\n",
       "  <tbody>\n",
       "    <tr>\n",
       "      <th>0</th>\n",
       "      <td>48</td>\n",
       "      <td>585</td>\n",
       "      <td>277.228389</td>\n",
       "      <td>1173785</td>\n",
       "      <td>1</td>\n",
       "      <td>2</td>\n",
       "      <td>1.006613</td>\n",
       "      <td>4262</td>\n",
       "      <td>16.0</td>\n",
       "      <td>100.0</td>\n",
       "      <td>53.150449</td>\n",
       "      <td>225039.00</td>\n",
       "      <td>4234</td>\n",
       "    </tr>\n",
       "    <tr>\n",
       "      <th>1</th>\n",
       "      <td>48</td>\n",
       "      <td>556</td>\n",
       "      <td>252.841032</td>\n",
       "      <td>421486</td>\n",
       "      <td>2</td>\n",
       "      <td>3</td>\n",
       "      <td>2.167367</td>\n",
       "      <td>3613</td>\n",
       "      <td>46.0</td>\n",
       "      <td>200.0</td>\n",
       "      <td>110.538992</td>\n",
       "      <td>184268.50</td>\n",
       "      <td>1667</td>\n",
       "    </tr>\n",
       "    <tr>\n",
       "      <th>2</th>\n",
       "      <td>540</td>\n",
       "      <td>1470</td>\n",
       "      <td>841.906623</td>\n",
       "      <td>775396</td>\n",
       "      <td>2</td>\n",
       "      <td>4</td>\n",
       "      <td>2.209555</td>\n",
       "      <td>2035</td>\n",
       "      <td>50.0</td>\n",
       "      <td>210.0</td>\n",
       "      <td>113.868350</td>\n",
       "      <td>104872.75</td>\n",
       "      <td>921</td>\n",
       "    </tr>\n",
       "    <tr>\n",
       "      <th>3</th>\n",
       "      <td>584</td>\n",
       "      <td>1495</td>\n",
       "      <td>890.473225</td>\n",
       "      <td>2145150</td>\n",
       "      <td>1</td>\n",
       "      <td>2</td>\n",
       "      <td>1.005812</td>\n",
       "      <td>2423</td>\n",
       "      <td>16.0</td>\n",
       "      <td>100.0</td>\n",
       "      <td>52.227273</td>\n",
       "      <td>125815.50</td>\n",
       "      <td>2409</td>\n",
       "    </tr>\n",
       "    <tr>\n",
       "      <th>4</th>\n",
       "      <td>48</td>\n",
       "      <td>1308</td>\n",
       "      <td>407.907672</td>\n",
       "      <td>313681</td>\n",
       "      <td>3</td>\n",
       "      <td>6</td>\n",
       "      <td>3.503251</td>\n",
       "      <td>2694</td>\n",
       "      <td>93.0</td>\n",
       "      <td>390.0</td>\n",
       "      <td>207.299415</td>\n",
       "      <td>159413.25</td>\n",
       "      <td>769</td>\n",
       "    </tr>\n",
       "  </tbody>\n",
       "</table>\n",
       "</div>"
      ],
      "text/plain": [
       "        recency(day)                            frequency(number)      \\\n",
       "                 min   max        mean      sum               min max   \n",
       "cluster                                                                 \n",
       "0                 48   585  277.228389  1173785                 1   2   \n",
       "1                 48   556  252.841032   421486                 2   3   \n",
       "2                540  1470  841.906623   775396                 2   4   \n",
       "3                584  1495  890.473225  2145150                 1   2   \n",
       "4                 48  1308  407.907672   313681                 3   6   \n",
       "\n",
       "                        monetary(total)                                \\\n",
       "             mean   sum             min    max        mean        sum   \n",
       "cluster                                                                 \n",
       "0        1.006613  4262            16.0  100.0   53.150449  225039.00   \n",
       "1        2.167367  3613            46.0  200.0  110.538992  184268.50   \n",
       "2        2.209555  2035            50.0  210.0  113.868350  104872.75   \n",
       "3        1.005812  2423            16.0  100.0   52.227273  125815.50   \n",
       "4        3.503251  2694            93.0  390.0  207.299415  159413.25   \n",
       "\n",
       "        cluster_size  \n",
       "                      \n",
       "cluster               \n",
       "0               4234  \n",
       "1               1667  \n",
       "2                921  \n",
       "3               2409  \n",
       "4                769  "
      ]
     },
     "execution_count": 24,
     "metadata": {},
     "output_type": "execute_result"
    }
   ],
   "source": [
    "r=clustered_RFM.groupby('cluster')['recency(day)','frequency(number)','monetary(total)'].agg(['min','max','mean','sum'])\n",
    "r[\"cluster_size\"]=clustered_RFM.groupby('cluster')['customer'].count().tolist()\n",
    "r"
   ]
  },
  {
   "cell_type": "code",
   "execution_count": 25,
   "metadata": {},
   "outputs": [
    {
     "data": {
      "text/plain": [
       "Text(0.5, 0.92, 'customer clusters')"
      ]
     },
     "execution_count": 25,
     "metadata": {},
     "output_type": "execute_result"
    },
    {
     "data": {
      "image/png": "[encoded data removed]",
      "text/plain": [
       "<Figure size 432x288 with 1 Axes>"
      ]
     },
     "metadata": {
      "needs_background": "light"
     },
     "output_type": "display_data"
    }
   ],
   "source": [
    "#visualize clusters\n",
    "fig = plt.figure()\n",
    "ax = plt.axes(projection='3d')\n",
    "zdata = X[:, 0]\n",
    "xdata = X[:, 1]\n",
    "ydata = X[:, 2]\n",
    "ax.scatter3D(xdata, ydata, zdata, c=clusters_customers, cmap='viridis')\n",
    "ax.set_xlabel('Frequency')\n",
    "ax.set_ylabel('Monetary')\n",
    "ax.set_zlabel('Recency')\n",
    "ax.set_title(\"customer clusters\")\n",
    "#ax.scatter3D(centroids[:, 0],centroids[:, 1],centroids[:, 2], c='black', s=200, alpha=0.5)"
   ]
  },
  {
   "cell_type": "code",
   "execution_count": 26,
   "metadata": {},
   "outputs": [],
   "source": [
    "#evaluation"
   ]
  },
  {
   "cell_type": "markdown",
   "metadata": {},
   "source": [
    "DB index : The Davies–Bouldin index (DBI) (introduced by David L. Davies and Donald W. Bouldin in 1979), a metric for evaluating clustering algorithms, is an internal evaluation scheme, where the validation of how well the clustering has been done is made using quantities and features inherent to the dataset. Lower the DB index value, better is the clustering. It also has a drawback. A good value reported by this method does not imply the best information retrieval."
   ]
  },
  {
   "cell_type": "code",
   "execution_count": 27,
   "metadata": {},
   "outputs": [
    {
     "name": "stdout",
     "output_type": "stream",
     "text": [
      "0.8968951949316306\n"
     ]
    }
   ],
   "source": [
    "labels = kmeans.labels_ \n",
    "print(davies_bouldin_score(X, labels)) #appartient vraiment à chaque cluster, on veut petit"
   ]
  },
  {
   "cell_type": "code",
   "execution_count": 28,
   "metadata": {},
   "outputs": [
    {
     "name": "stdout",
     "output_type": "stream",
     "text": [
      "2 0.9493158715458422\n",
      "3 0.845393694922658\n",
      "4 0.9005966531700155\n",
      "5 0.8968951949316306\n",
      "6 0.9129579609054864\n",
      "7 0.9575778398569916\n",
      "8 0.9357468987832276\n",
      "9 0.9093597409019721\n",
      "10 0.9125926960327237\n"
     ]
    },
    {
     "data": {
      "image/png": "[encoded data removed]",
      "text/plain": [
       "<Figure size 864x432 with 1 Axes>"
      ]
     },
     "metadata": {
      "needs_background": "light"
     },
     "output_type": "display_data"
    }
   ],
   "source": [
    "db=[]\n",
    "for k in range(2, 11):\n",
    "    kmeans = KMeans(n_clusters=k, init=\"k-means++\")\n",
    "    kmeans.fit(X) \n",
    "    labels = kmeans.labels_ \n",
    "    db.append(davies_bouldin_score(X, labels))\n",
    "    print(k,davies_bouldin_score(X, labels))\n",
    "plt.figure(figsize=(12,6))    \n",
    "plt.grid()\n",
    "plt.plot(range(2,11),db, linewidth=2, color=\"red\", marker =\"8\")\n",
    "plt.xlabel('Number of clusters')\n",
    "plt.xticks(np.arange(1,11,1))\n",
    "plt.ylabel(\"davies_bouldin_score\")\n",
    "plt.show()\n"
   ]
  },
  {
   "cell_type": "code",
   "execution_count": 29,
   "metadata": {},
   "outputs": [
    {
     "data": {
      "text/html": [
       "<div>\n",
       "<style scoped>\n",
       "    .dataframe tbody tr th:only-of-type {\n",
       "        vertical-align: middle;\n",
       "    }\n",
       "\n",
       "    .dataframe tbody tr th {\n",
       "        vertical-align: top;\n",
       "    }\n",
       "\n",
       "    .dataframe thead th {\n",
       "        text-align: right;\n",
       "    }\n",
       "</style>\n",
       "<table border=\"1\" class=\"dataframe\">\n",
       "  <thead>\n",
       "    <tr style=\"text-align: right;\">\n",
       "      <th></th>\n",
       "      <th>customer</th>\n",
       "      <th>recency(day)</th>\n",
       "      <th>frequency(number)</th>\n",
       "      <th>monetary(total)</th>\n",
       "      <th>cluster</th>\n",
       "    </tr>\n",
       "  </thead>\n",
       "  <tbody>\n",
       "    <tr>\n",
       "      <th>0</th>\n",
       "      <td>1</td>\n",
       "      <td>350</td>\n",
       "      <td>1</td>\n",
       "      <td>55.00</td>\n",
       "      <td>0</td>\n",
       "    </tr>\n",
       "    <tr>\n",
       "      <th>1</th>\n",
       "      <td>2</td>\n",
       "      <td>292</td>\n",
       "      <td>5</td>\n",
       "      <td>221.75</td>\n",
       "      <td>4</td>\n",
       "    </tr>\n",
       "    <tr>\n",
       "      <th>2</th>\n",
       "      <td>3</td>\n",
       "      <td>538</td>\n",
       "      <td>1</td>\n",
       "      <td>100.00</td>\n",
       "      <td>0</td>\n",
       "    </tr>\n",
       "    <tr>\n",
       "      <th>3</th>\n",
       "      <td>4</td>\n",
       "      <td>513</td>\n",
       "      <td>3</td>\n",
       "      <td>167.00</td>\n",
       "      <td>4</td>\n",
       "    </tr>\n",
       "    <tr>\n",
       "      <th>4</th>\n",
       "      <td>5</td>\n",
       "      <td>215</td>\n",
       "      <td>3</td>\n",
       "      <td>160.00</td>\n",
       "      <td>4</td>\n",
       "    </tr>\n",
       "  </tbody>\n",
       "</table>\n",
       "</div>"
      ],
      "text/plain": [
       "   customer  recency(day)  frequency(number)  monetary(total)  cluster\n",
       "0         1           350                  1            55.00        0\n",
       "1         2           292                  5           221.75        4\n",
       "2         3           538                  1           100.00        0\n",
       "3         4           513                  3           167.00        4\n",
       "4         5           215                  3           160.00        4"
      ]
     },
     "execution_count": 29,
     "metadata": {},
     "output_type": "execute_result"
    }
   ],
   "source": [
    "clustered_RFM.head()"
   ]
  },
  {
   "cell_type": "code",
   "execution_count": 30,
   "metadata": {},
   "outputs": [
    {
     "data": {
      "text/html": [
       "<div>\n",
       "<style scoped>\n",
       "    .dataframe tbody tr th:only-of-type {\n",
       "        vertical-align: middle;\n",
       "    }\n",
       "\n",
       "    .dataframe tbody tr th {\n",
       "        vertical-align: top;\n",
       "    }\n",
       "\n",
       "    .dataframe thead th {\n",
       "        text-align: right;\n",
       "    }\n",
       "</style>\n",
       "<table border=\"1\" class=\"dataframe\">\n",
       "  <thead>\n",
       "    <tr style=\"text-align: right;\">\n",
       "      <th></th>\n",
       "      <th>customer</th>\n",
       "      <th>product_id</th>\n",
       "    </tr>\n",
       "  </thead>\n",
       "  <tbody>\n",
       "    <tr>\n",
       "      <th>0</th>\n",
       "      <td>2</td>\n",
       "      <td>1</td>\n",
       "    </tr>\n",
       "    <tr>\n",
       "      <th>1</th>\n",
       "      <td>4</td>\n",
       "      <td>1</td>\n",
       "    </tr>\n",
       "    <tr>\n",
       "      <th>2</th>\n",
       "      <td>5</td>\n",
       "      <td>9</td>\n",
       "    </tr>\n",
       "    <tr>\n",
       "      <th>3</th>\n",
       "      <td>8</td>\n",
       "      <td>7</td>\n",
       "    </tr>\n",
       "    <tr>\n",
       "      <th>4</th>\n",
       "      <td>10</td>\n",
       "      <td>1</td>\n",
       "    </tr>\n",
       "  </tbody>\n",
       "</table>\n",
       "</div>"
      ],
      "text/plain": [
       "   customer  product_id\n",
       "0         2           1\n",
       "1         4           1\n",
       "2         5           9\n",
       "3         8           7\n",
       "4        10           1"
      ]
     },
     "execution_count": 30,
     "metadata": {},
     "output_type": "execute_result"
    }
   ],
   "source": [
    "Customer_product = orders_products[['customer','product_id']]\n",
    "Customer_product.head()"
   ]
  },
  {
   "cell_type": "code",
   "execution_count": 31,
   "metadata": {},
   "outputs": [
    {
     "data": {
      "text/html": [
       "<div>\n",
       "<style scoped>\n",
       "    .dataframe tbody tr th:only-of-type {\n",
       "        vertical-align: middle;\n",
       "    }\n",
       "\n",
       "    .dataframe tbody tr th {\n",
       "        vertical-align: top;\n",
       "    }\n",
       "\n",
       "    .dataframe thead th {\n",
       "        text-align: right;\n",
       "    }\n",
       "</style>\n",
       "<table border=\"1\" class=\"dataframe\">\n",
       "  <thead>\n",
       "    <tr style=\"text-align: right;\">\n",
       "      <th></th>\n",
       "      <th>customer</th>\n",
       "      <th>product_id</th>\n",
       "    </tr>\n",
       "  </thead>\n",
       "  <tbody>\n",
       "    <tr>\n",
       "      <th>0</th>\n",
       "      <td>2</td>\n",
       "      <td>1</td>\n",
       "    </tr>\n",
       "    <tr>\n",
       "      <th>3757</th>\n",
       "      <td>2</td>\n",
       "      <td>2</td>\n",
       "    </tr>\n",
       "    <tr>\n",
       "      <th>7506</th>\n",
       "      <td>2</td>\n",
       "      <td>2</td>\n",
       "    </tr>\n",
       "    <tr>\n",
       "      <th>7514</th>\n",
       "      <td>2</td>\n",
       "      <td>6</td>\n",
       "    </tr>\n",
       "    <tr>\n",
       "      <th>11270</th>\n",
       "      <td>2</td>\n",
       "      <td>8</td>\n",
       "    </tr>\n",
       "  </tbody>\n",
       "</table>\n",
       "</div>"
      ],
      "text/plain": [
       "       customer  product_id\n",
       "0             2           1\n",
       "3757          2           2\n",
       "7506          2           2\n",
       "7514          2           6\n",
       "11270         2           8"
      ]
     },
     "execution_count": 31,
     "metadata": {},
     "output_type": "execute_result"
    }
   ],
   "source": [
    "Customer_product[Customer_product.customer==2]"
   ]
  },
  {
   "cell_type": "code",
   "execution_count": 32,
   "metadata": {},
   "outputs": [],
   "source": [
    "def creat_dict(col1,col2):\n",
    "    dic = {}\n",
    "    for i in col1:\n",
    "        li=[]\n",
    "        for j,k in enumerate(col2):\n",
    "            if col1[j]==i:\n",
    "                li.append(k)\n",
    "        dic[i] = list(set(li))\n",
    "    return dic"
   ]
  },
  {
   "cell_type": "code",
   "execution_count": 33,
   "metadata": {},
   "outputs": [],
   "source": [
    "customer = list(Customer_product['customer'])\n",
    "product_id = list(Customer_product['product_id'])\n",
    "customer2 = list(clustered_RFM['customer'])\n",
    "cluster = list(clustered_RFM['cluster'])\n",
    "dic1 = creat_dict(customer,product_id)\n",
    "dic2  = creat_dict(cluster, customer2)"
   ]
  },
  {
   "cell_type": "code",
   "execution_count": 34,
   "metadata": {},
   "outputs": [],
   "source": [
    "#create table products per clusters \n",
    "dic3 ={}\n",
    "for key, value in dic2.items():\n",
    "    lst = []\n",
    "    for a in dic2[key]:\n",
    "        lst = lst + dic1[a]\n",
    "\n",
    "    dic3[key]=lst"
   ]
  },
  {
   "cell_type": "code",
   "execution_count": 35,
   "metadata": {},
   "outputs": [],
   "source": [
    "col1 =[]\n",
    "col2 =[]\n",
    "for key, value in dic3.items():\n",
    "    for j in dic3[key]:\n",
    "        col1.append(key)\n",
    "        col2.append(j)"
   ]
  },
  {
   "cell_type": "code",
   "execution_count": 36,
   "metadata": {},
   "outputs": [],
   "source": [
    "cluster_product = pd.DataFrame({'cluster':col1,'product_id':col2})"
   ]
  },
  {
   "cell_type": "code",
   "execution_count": 37,
   "metadata": {},
   "outputs": [
    {
     "data": {
      "text/html": [
       "<div>\n",
       "<style scoped>\n",
       "    .dataframe tbody tr th:only-of-type {\n",
       "        vertical-align: middle;\n",
       "    }\n",
       "\n",
       "    .dataframe tbody tr th {\n",
       "        vertical-align: top;\n",
       "    }\n",
       "\n",
       "    .dataframe thead th {\n",
       "        text-align: right;\n",
       "    }\n",
       "</style>\n",
       "<table border=\"1\" class=\"dataframe\">\n",
       "  <thead>\n",
       "    <tr style=\"text-align: right;\">\n",
       "      <th></th>\n",
       "      <th>cluster</th>\n",
       "      <th>product_id</th>\n",
       "    </tr>\n",
       "  </thead>\n",
       "  <tbody>\n",
       "    <tr>\n",
       "      <th>0</th>\n",
       "      <td>0</td>\n",
       "      <td>5</td>\n",
       "    </tr>\n",
       "    <tr>\n",
       "      <th>1</th>\n",
       "      <td>0</td>\n",
       "      <td>3</td>\n",
       "    </tr>\n",
       "    <tr>\n",
       "      <th>2</th>\n",
       "      <td>0</td>\n",
       "      <td>3</td>\n",
       "    </tr>\n",
       "    <tr>\n",
       "      <th>3</th>\n",
       "      <td>0</td>\n",
       "      <td>10</td>\n",
       "    </tr>\n",
       "    <tr>\n",
       "      <th>4</th>\n",
       "      <td>0</td>\n",
       "      <td>6</td>\n",
       "    </tr>\n",
       "  </tbody>\n",
       "</table>\n",
       "</div>"
      ],
      "text/plain": [
       "   cluster  product_id\n",
       "0        0           5\n",
       "1        0           3\n",
       "2        0           3\n",
       "3        0          10\n",
       "4        0           6"
      ]
     },
     "execution_count": 37,
     "metadata": {},
     "output_type": "execute_result"
    }
   ],
   "source": [
    "cluster_product.head()"
   ]
  },
  {
   "cell_type": "code",
   "execution_count": 38,
   "metadata": {},
   "outputs": [
    {
     "data": {
      "text/plain": [
       "14384"
      ]
     },
     "execution_count": 38,
     "metadata": {},
     "output_type": "execute_result"
    }
   ],
   "source": [
    "len(cluster_product)"
   ]
  },
  {
   "cell_type": "code",
   "execution_count": 39,
   "metadata": {},
   "outputs": [
    {
     "data": {
      "text/plain": [
       "0    4245\n",
       "1    3407\n",
       "3    2418\n",
       "4    2401\n",
       "2    1913\n",
       "Name: cluster, dtype: int64"
      ]
     },
     "execution_count": 39,
     "metadata": {},
     "output_type": "execute_result"
    }
   ],
   "source": [
    "cluster_product.cluster.value_counts()"
   ]
  },
  {
   "cell_type": "code",
   "execution_count": 40,
   "metadata": {},
   "outputs": [
    {
     "data": {
      "text/plain": [
       "<matplotlib.axes._subplots.AxesSubplot at 0x1d98e7b8e10>"
      ]
     },
     "execution_count": 40,
     "metadata": {},
     "output_type": "execute_result"
    },
    {
     "data": {
      "image/png": "[encoded data removed]",
      "text/plain": [
       "<Figure size 432x288 with 1 Axes>"
      ]
     },
     "metadata": {
      "needs_background": "light"
     },
     "output_type": "display_data"
    }
   ],
   "source": [
    "import seaborn as sns\n",
    "sns.countplot(cluster_product['product_id'],data=cluster_product,hue='cluster')"
   ]
  },
  {
   "cell_type": "code",
   "execution_count": 44,
   "metadata": {},
   "outputs": [
    {
     "data": {
      "text/plain": [
       "<matplotlib.axes._subplots.AxesSubplot at 0x1d99307c518>"
      ]
     },
     "execution_count": 44,
     "metadata": {},
     "output_type": "execute_result"
    },
    {
     "data": {
      "image/png": "[encoded data removed]",
      "text/plain": [
       "<Figure size 432x288 with 1 Axes>"
      ]
     },
     "metadata": {
      "needs_background": "light"
     },
     "output_type": "display_data"
    }
   ],
   "source": [
    "sns.countplot(cluster_product['cluster'],data=cluster_product,hue='product_id')"
   ]
  },
  {
   "cell_type": "code",
   "execution_count": null,
   "metadata": {},
   "outputs": [],
   "source": [
    "sns.pairplot(iris, hue='species', height=2.5);"
   ]
  }
 ],
 "metadata": {
  "kernelspec": {
   "display_name": "Python 3",
   "language": "python",
   "name": "python3"
  },
  "language_info": {
   "codemirror_mode": {
    "name": "ipython",
    "version": 3
   },
   "file_extension": ".py",
   "mimetype": "text/x-python",
   "name": "python",
   "nbconvert_exporter": "python",
   "pygments_lexer": "ipython3",
   "version": "3.7.3"
  }
 },
 "nbformat": 4,
 "nbformat_minor": 2
}
