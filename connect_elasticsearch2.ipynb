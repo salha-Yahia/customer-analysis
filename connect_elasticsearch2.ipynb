{
 "cells": [
  {
   "cell_type": "code",
   "execution_count": 1,
   "metadata": {},
   "outputs": [],
   "source": [
    "import pandas as pd\n",
    "import sys\n",
    "import json\n",
    "from pprint import pprint\n",
    "from elasticsearch import Elasticsearch"
   ]
  },
  {
   "cell_type": "code",
   "execution_count": 2,
   "metadata": {},
   "outputs": [],
   "source": [
    "emails =  pd.read_csv('email_events_202101071339.csv')\n",
    "orders =  pd.read_csv('orders_202101071341.csv')\n",
    "products =  pd.read_csv('products_202101071344.csv')"
   ]
  },
  {
   "cell_type": "code",
   "execution_count": 3,
   "metadata": {},
   "outputs": [],
   "source": [
    "orders_products = pd.merge(orders.copy(), products.copy(), how='left',left_on='product_id', right_on='product_id')\n",
    "emails_orders_products = pd.merge(emails.copy(), orders_products.copy(), how='left',left_on='customer', right_on='customer')"
   ]
  },
  {
   "cell_type": "code",
   "execution_count": 4,
   "metadata": {},
   "outputs": [
    {
     "data": {
      "text/plain": [
       "2661134"
      ]
     },
     "execution_count": 4,
     "metadata": {},
     "output_type": "execute_result"
    }
   ],
   "source": [
    "len(emails_orders_products)"
   ]
  },
  {
   "cell_type": "code",
   "execution_count": 5,
   "metadata": {},
   "outputs": [],
   "source": [
    "orders_products.to_csv('orders_products.csv', index=False)\n",
    "emails_orders_products.to_csv('emails_orders_products.csv', index=False)"
   ]
  },
  {
   "cell_type": "markdown",
   "metadata": {},
   "source": [
    "## Convert CSV To json"
   ]
  },
  {
   "cell_type": "code",
   "execution_count": 6,
   "metadata": {},
   "outputs": [],
   "source": [
    "import csv \n",
    "import json \n",
    "  \n",
    "# Function to convert a CSV to JSON \n",
    "# Takes the file paths as arguments \n",
    "def make_json(csvFilePath, jsonFilePath, id_name): \n",
    "      \n",
    "    # create a dictionary \n",
    "    data = {} \n",
    "      \n",
    "    # Open a csv reader called DictReader \n",
    "    with open(csvFilePath, encoding='utf-8') as csvf: \n",
    "        csvReader = csv.DictReader(csvf) \n",
    "          \n",
    "        # Convert each row into a dictionary  \n",
    "        # and add it to data \n",
    "        for rows in csvReader: \n",
    "              \n",
    "            # Assuming a column named 'No' to \n",
    "            # be the primary key \n",
    "            key = rows[id_name] \n",
    "            data[key] = rows \n",
    "  \n",
    "    # Open a json writer, and use the json.dumps()  \n",
    "    # function to dump data \n",
    "    with open(jsonFilePath, 'w', encoding='utf-8') as jsonf: \n",
    "        jsonf.write(json.dumps(data, indent=4)) \n"
   ]
  },
  {
   "cell_type": "code",
   "execution_count": 7,
   "metadata": {},
   "outputs": [],
   "source": [
    "csvFilePath = r'orders_products.csv'\n",
    "jsonFilePath = r'orders_products.json'\n",
    "id_name = 'order_id'\n",
    "# Call the make_json function \n",
    "make_json(csvFilePath, jsonFilePath, id_name)"
   ]
  },
  {
   "cell_type": "code",
   "execution_count": 8,
   "metadata": {},
   "outputs": [],
   "source": [
    "csvFilePath = r'emails_orders_products.csv'\n",
    "jsonFilePath = r'emails_orders_products.json'\n",
    "id_name = 'event_id'\n",
    "make_json(csvFilePath, jsonFilePath, id_name)"
   ]
  },
  {
   "cell_type": "markdown",
   "metadata": {},
   "source": [
    "## Bulk data in elasticsearch"
   ]
  },
  {
   "cell_type": "code",
   "execution_count": 9,
   "metadata": {},
   "outputs": [],
   "source": [
    "import csv\n",
    "from elasticsearch import helpers, Elasticsearch\n",
    "\n",
    "def csv_reader(file_name, index_name):\n",
    "    es = Elasticsearch([{'host': '127.0.0.1', 'port': 9200}])\n",
    "    with open(file_name, 'r') as outfile:\n",
    "        reader = csv.DictReader(outfile)\n",
    "        helpers.bulk(es, reader, index=index_name, doc_type=\"Default\")"
   ]
  },
  {
   "cell_type": "code",
   "execution_count": 10,
   "metadata": {},
   "outputs": [
    {
     "name": "stderr",
     "output_type": "stream",
     "text": [
      "C:\\ProgramData\\Anaconda3\\lib\\site-packages\\elasticsearch\\connection\\base.py:193: ElasticsearchDeprecationWarning: [types removal] Specifying types in bulk requests is deprecated.\n",
      "  warnings.warn(message, category=ElasticsearchDeprecationWarning)\n"
     ]
    }
   ],
   "source": [
    "csv_reader('emails_orders_products.csv', 'emails_orders_products')"
   ]
  },
  {
   "cell_type": "code",
   "execution_count": 11,
   "metadata": {},
   "outputs": [],
   "source": [
    "csv_reader('orders_products.csv', 'orders_products')"
   ]
  },
  {
   "cell_type": "code",
   "execution_count": null,
   "metadata": {},
   "outputs": [],
   "source": []
  }
 ],
 "metadata": {
  "kernelspec": {
   "display_name": "Python 3",
   "language": "python",
   "name": "python3"
  },
  "language_info": {
   "codemirror_mode": {
    "name": "ipython",
    "version": 3
   },
   "file_extension": ".py",
   "mimetype": "text/x-python",
   "name": "python",
   "nbconvert_exporter": "python",
   "pygments_lexer": "ipython3",
   "version": "3.7.3"
  }
 },
 "nbformat": 4,
 "nbformat_minor": 4
}
